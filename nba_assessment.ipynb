{
 "cells": [
  {
   "cell_type": "markdown",
   "id": "eaa40730-01b6-46a2-b167-5f2c1b750525",
   "metadata": {},
   "source": [
    "# Assessment\n",
    "- Anoop Nath\n",
    "- nux9aq@virginia.edu\n",
    "- 5/28/2023"
   ]
  },
  {
   "cell_type": "markdown",
   "id": "8d20665b-2f8f-4e2e-856f-453675fa6cae",
   "metadata": {},
   "source": [
    "## Part 1: Data Comprehension\n",
    "\n",
    "**Note: For these questions, I wanted to account for team name changes. For example, I considered Seattle Supersonics and Oklahoma City Thunder as the same team/franchise. This might give different answers if team name changes are not considered.**"
   ]
  },
  {
   "cell_type": "markdown",
   "id": "783c13d3-cdd7-4b2c-8ae7-89482587630e",
   "metadata": {},
   "source": [
    "### (A.1) Which NBA team(s) has drafted the most players who went to Duke and were drafted in or before the 2000 draft?"
   ]
  },
  {
   "cell_type": "code",
   "execution_count": 1,
   "id": "52a28830-f877-4907-b309-618d2265549c",
   "metadata": {},
   "outputs": [],
   "source": [
    "import pandas as pd\n",
    "import numpy as np\n",
    "from scipy.optimize import curve_fit, differential_evolution"
   ]
  },
  {
   "cell_type": "code",
   "execution_count": 2,
   "id": "4e0f0058-3b0e-44f6-86ed-c97c7201d79b",
   "metadata": {},
   "outputs": [],
   "source": [
    "draft = pd.read_csv('https://github.com/anath703/NBA_Assessment/raw/main/nbaplayersdraft.csv')"
   ]
  },
  {
   "cell_type": "code",
   "execution_count": 3,
   "id": "e2fd1970-bc1c-40e7-831a-765298d1d6a4",
   "metadata": {},
   "outputs": [],
   "source": [
    "# Dictionary of name changes to account for franchise changing names\n",
    "name_changes = {\n",
    "    \"CHH\": \"CHH/CHA\",\n",
    "    \"WSB\": \"WSB/WAS\",\n",
    "    'WAS': 'WSB/WAS',\n",
    "    \"NJN\": \"NJN/BRK\",\n",
    "    \"SEA\": \"SEA/OKC\",\n",
    "    \"VAN\": \"VAN/MEM\",\n",
    "    \"MEM\": \"VAN/MEM\",\n",
    "    \"NOH\": \"NOH/NOP\",\n",
    "    \"CHA\": \"CHH/CHA\",\n",
    "    \"NOK\": \"NOH/NOP\",\n",
    "    \"OKC\": \"SEA/OKC\",\n",
    "    \"BRK\": \"NJN/BRK\",\n",
    "    \"CHO\": \"CHH/CHA\",\n",
    "    \"NOP\": \"NOH/NOP\"\n",
    "}\n",
    "#create a new column with combined team abbreviations that accounts for name changes\n",
    "draft['team_combined'] = draft['team'].map(name_changes).fillna(draft['team'])"
   ]
  },
  {
   "cell_type": "code",
   "execution_count": 4,
   "id": "a9f241f6-8401-43e0-a98f-7f20e1b395d8",
   "metadata": {},
   "outputs": [],
   "source": [
    "# Filter for Duke players drafted in or before 2000\n",
    "duke= draft[(draft['college']=='Duke') & (draft['year']<=2000)] "
   ]
  },
  {
   "cell_type": "code",
   "execution_count": 5,
   "id": "d32cb3ea-a2c1-4c22-8c45-f8bf63ca01f5",
   "metadata": {},
   "outputs": [
    {
     "data": {
      "text/plain": [
       "team_combined\n",
       "DAL    2\n",
       "MIN    2\n",
       "PHO    2\n",
       "LAC    1\n",
       "POR    1\n",
       "Name: count, dtype: int64"
      ]
     },
     "execution_count": 5,
     "metadata": {},
     "output_type": "execute_result"
    }
   ],
   "source": [
    "# Count the number of players drafted by each team\n",
    "duke['team_combined'].value_counts().head()"
   ]
  },
  {
   "cell_type": "markdown",
   "id": "1eba5ad2-4507-4800-9457-0ace9efa7d8d",
   "metadata": {},
   "source": [
    "**The Dallas Mavericks, Minnesota Timberwolves, and Phoenix Suns have drafted the most players who went to Duke and were drafted in or before the 2000 draft, with eaching drafting two players.**"
   ]
  },
  {
   "cell_type": "markdown",
   "id": "bfca2017-e633-4512-95ca-604e11a7eab7",
   "metadata": {},
   "source": [
    "### (A.2) Which NBA team(s) has drafted the most players  who have a first name that begins with D and were drafted in an even year draft (1990, 1992, 1994, …)?"
   ]
  },
  {
   "cell_type": "code",
   "execution_count": 6,
   "id": "a68fd520-0bea-4072-8061-292a97df4165",
   "metadata": {},
   "outputs": [],
   "source": [
    "draft['first_letter'] = draft['player'].str[0]\n",
    "d_names_and_even_years= draft[(draft['first_letter']=='D') & (draft['year']%2==0)] "
   ]
  },
  {
   "cell_type": "code",
   "execution_count": 7,
   "id": "f9492949-97a5-421b-a3f5-dc7ef136fb13",
   "metadata": {},
   "outputs": [
    {
     "data": {
      "text/plain": [
       "team_combined\n",
       "SEA/OKC    8\n",
       "BOS        7\n",
       "MIL        7\n",
       "ATL        6\n",
       "MIA        5\n",
       "Name: count, dtype: int64"
      ]
     },
     "execution_count": 7,
     "metadata": {},
     "output_type": "execute_result"
    }
   ],
   "source": [
    "d_names_and_even_years['team_combined'].value_counts().head()"
   ]
  },
  {
   "cell_type": "markdown",
   "id": "7ac9dbc9-2d9a-4dc9-87ee-86a19691a449",
   "metadata": {},
   "source": [
    "**The Seattle Supersonics/Oklahoma City Thunder have drafted the most players who have a first name that begins with D and were drafted in an even year draft**"
   ]
  },
  {
   "cell_type": "markdown",
   "id": "fd8557cf-fd48-48d9-a40f-284436e885cd",
   "metadata": {},
   "source": [
    "### (B) Describe the relationship between a team’s first round pick slot in one year with their first-round pick slot in the subsequent year."
   ]
  },
  {
   "cell_type": "markdown",
   "id": "ec0690d8-807b-4cad-8fa3-7631c8d7e086",
   "metadata": {},
   "source": [
    "The dataset doesn’t indicate which round a pick is made so I will have to get creative to extract this information."
   ]
  },
  {
   "cell_type": "code",
   "execution_count": 8,
   "id": "08d9e474-6058-4de4-9856-ad29bcfa46c8",
   "metadata": {},
   "outputs": [],
   "source": [
    "# Calculate the maximum overall_pick for each year and divide by 2\n",
    "round_threshold = draft.groupby('year')['overall_pick'].max() / 2\n",
    "\n",
    "round_threshold[1997] = 28 #The Wizards forfeited their first round pick so I'm manually adjusting\n",
    "round_threshold[2004] = 29 #The Timberwolves forfeited their first round pick so I'm manually adjusting"
   ]
  },
  {
   "cell_type": "code",
   "execution_count": 9,
   "id": "959ecab1-15bc-4321-a17c-dc5e3ce7addd",
   "metadata": {},
   "outputs": [],
   "source": [
    "# Map the round_threshold series to the draft dataframe using the year column\n",
    "draft['round_threshold'] = draft['year'].map(round_threshold)\n",
    "\n",
    "# Create a new column 'round' based on the condition\n",
    "draft['round'] = np.where(draft['overall_pick'] > draft['round_threshold'], 2, 1)\n",
    "\n",
    "# Drop the 'round_threshold' column as it's no longer needed\n",
    "draft = draft.drop(columns='round_threshold')"
   ]
  },
  {
   "cell_type": "markdown",
   "id": "6e4fd3ac-1e38-4766-8b4e-aa4816888709",
   "metadata": {},
   "source": [
    "I now have the round for each selection and can continue with my analysis."
   ]
  },
  {
   "cell_type": "code",
   "execution_count": 10,
   "id": "bff15a2a-3aa5-4a4c-ac66-35a433f2e098",
   "metadata": {},
   "outputs": [],
   "source": [
    "# Group by team and year and get the smallest overall pick\n",
    "first_round_picks = draft[draft['round'] == 1].groupby(['team', 'year'])['overall_pick'].min().reset_index()\n",
    "\n",
    "# Sort by team and year\n",
    "first_round_picks = first_round_picks.sort_values(['team', 'year'])\n",
    "\n",
    "# Get the subsequent year's pick using shift() function\n",
    "first_round_picks['next_year_pick'] = first_round_picks.groupby('team')['overall_pick'].shift(-1)\n",
    "\n",
    "# Drop NaN rows (i.e., the last year for each team will not have a 'next_year_pick')\n",
    "first_round_picks = first_round_picks.dropna(subset=['next_year_pick'])\n",
    "\n",
    "# Make sure 'next_year_pick' is integer\n",
    "first_round_picks['next_year_pick'] = first_round_picks['next_year_pick'].astype(int)"
   ]
  },
  {
   "cell_type": "code",
   "execution_count": 11,
   "id": "472aca0b-fa9d-4589-b60d-702db9089b77",
   "metadata": {},
   "outputs": [
    {
     "data": {
      "text/plain": [
       "<Figure size 1000x600 with 0 Axes>"
      ]
     },
     "metadata": {},
     "output_type": "display_data"
    },
    {
     "data": {
      "image/png": "[encoded data removed]",
      "text/plain": [
       "<Figure size 600x600 with 1 Axes>"
      ]
     },
     "metadata": {},
     "output_type": "display_data"
    }
   ],
   "source": [
    "import seaborn as sns\n",
    "import matplotlib.pyplot as plt\n",
    "\n",
    "# Plot\n",
    "plt.figure(figsize=(10, 6))\n",
    "heatmap= sns.jointplot(data=first_round_picks, x='overall_pick', y='next_year_pick', kind='hex')\n",
    "heatmap.ax_marg_x.remove()\n",
    "heatmap.ax_marg_y.remove()\n",
    "plt.title('Heatmap of First Round Picks vs. Subsequent Year First Round Picks')\n",
    "plt.xlabel('First Round Pick (Year N)')\n",
    "plt.ylabel('First Round Pick (Year N+1)')\n",
    "\n",
    "plt.show()"
   ]
  },
  {
   "cell_type": "markdown",
   "id": "c6987123-9627-4cf1-8c8b-f0255228031a",
   "metadata": {},
   "source": [
    "We can see a linear relationship between first round pick this year and first round pick next year. This seems more pronounced for teams drafting in the top 10. It seems like struggling teams that are picking early tend to stay in that area from year-to-year."
   ]
  },
  {
   "cell_type": "code",
   "execution_count": 12,
   "id": "b880b649-7063-4eac-a043-b8378e35d723",
   "metadata": {},
   "outputs": [
    {
     "data": {
      "image/png": "[encoded data removed]",
      "text/plain": [
       "<Figure size 1000x600 with 1 Axes>"
      ]
     },
     "metadata": {},
     "output_type": "display_data"
    }
   ],
   "source": [
    "# Calculate the difference between next year's draft pick and this year's draft pick\n",
    "first_round_picks['pick_difference'] = first_round_picks['next_year_pick'] - first_round_picks['overall_pick']\n",
    "\n",
    "# Plot the distribution of the pick difference\n",
    "plt.figure(figsize=(10, 6))\n",
    "sns.histplot(data=first_round_picks, x='pick_difference', kde=True, bins=30)\n",
    "plt.title('Distribution of First Round Pick Difference from Year N to N+1')\n",
    "plt.xlabel(\"Pick Difference (Next Year's First Round Pick - This Year's First Round Pick)\")\n",
    "plt.show()"
   ]
  },
  {
   "cell_type": "markdown",
   "id": "80f18939-9b0d-4dcc-9ceb-de08e1f3ece8",
   "metadata": {},
   "source": [
    "We can see a similar relationship here. The distribution between next year's first round pick and this year's pick is centered around 0, meaning teams tend to stay where they are from year-to-year."
   ]
  },
  {
   "cell_type": "markdown",
   "id": "e4b5bebc-5094-4306-b66c-c2d85be795eb",
   "metadata": {},
   "source": [
    "## Part 2: Analytical Acumen\n",
    "\n",
    "Analyze draft position value and team success/deficiencies compared to expectation\n"
   ]
  },
  {
   "cell_type": "markdown",
   "id": "a949af0b-cf4f-42c1-90d2-942e1b084a2d",
   "metadata": {
    "tags": []
   },
   "source": [
    "### **(a)** Create a method for valuing each draft slot in the NBA Draft (picks 1 through 60 in most drafts)."
   ]
  },
  {
   "cell_type": "markdown",
   "id": "624d6238-6f6b-49e8-a6f0-ca6931cffc56",
   "metadata": {},
   "source": [
    "I want to calculate the average win shares for each pick position"
   ]
  },
  {
   "cell_type": "code",
   "execution_count": 13,
   "id": "6738dae0-062c-4fe7-a264-f757fb5b2ec5",
   "metadata": {},
   "outputs": [
    {
     "data": {
      "text/html": [
       "<div>\n",
       "<style scoped>\n",
       "    .dataframe tbody tr th:only-of-type {\n",
       "        vertical-align: middle;\n",
       "    }\n",
       "\n",
       "    .dataframe tbody tr th {\n",
       "        vertical-align: top;\n",
       "    }\n",
       "\n",
       "    .dataframe thead th {\n",
       "        text-align: right;\n",
       "    }\n",
       "</style>\n",
       "<table border=\"1\" class=\"dataframe\">\n",
       "  <thead>\n",
       "    <tr style=\"text-align: right;\">\n",
       "      <th></th>\n",
       "      <th>Draft Slot</th>\n",
       "      <th>Average Career Win Shares</th>\n",
       "    </tr>\n",
       "  </thead>\n",
       "  <tbody>\n",
       "    <tr>\n",
       "      <th>0</th>\n",
       "      <td>1</td>\n",
       "      <td>61.748485</td>\n",
       "    </tr>\n",
       "    <tr>\n",
       "      <th>1</th>\n",
       "      <td>2</td>\n",
       "      <td>46.251515</td>\n",
       "    </tr>\n",
       "    <tr>\n",
       "      <th>2</th>\n",
       "      <td>3</td>\n",
       "      <td>52.778788</td>\n",
       "    </tr>\n",
       "    <tr>\n",
       "      <th>3</th>\n",
       "      <td>4</td>\n",
       "      <td>48.160606</td>\n",
       "    </tr>\n",
       "    <tr>\n",
       "      <th>4</th>\n",
       "      <td>5</td>\n",
       "      <td>45.384848</td>\n",
       "    </tr>\n",
       "    <tr>\n",
       "      <th>5</th>\n",
       "      <td>6</td>\n",
       "      <td>21.739394</td>\n",
       "    </tr>\n",
       "    <tr>\n",
       "      <th>6</th>\n",
       "      <td>7</td>\n",
       "      <td>30.509091</td>\n",
       "    </tr>\n",
       "    <tr>\n",
       "      <th>7</th>\n",
       "      <td>8</td>\n",
       "      <td>21.854545</td>\n",
       "    </tr>\n",
       "    <tr>\n",
       "      <th>8</th>\n",
       "      <td>9</td>\n",
       "      <td>39.530303</td>\n",
       "    </tr>\n",
       "    <tr>\n",
       "      <th>9</th>\n",
       "      <td>10</td>\n",
       "      <td>34.172727</td>\n",
       "    </tr>\n",
       "    <tr>\n",
       "      <th>10</th>\n",
       "      <td>11</td>\n",
       "      <td>22.790625</td>\n",
       "    </tr>\n",
       "    <tr>\n",
       "      <th>11</th>\n",
       "      <td>12</td>\n",
       "      <td>18.960606</td>\n",
       "    </tr>\n",
       "    <tr>\n",
       "      <th>12</th>\n",
       "      <td>13</td>\n",
       "      <td>27.709091</td>\n",
       "    </tr>\n",
       "    <tr>\n",
       "      <th>13</th>\n",
       "      <td>14</td>\n",
       "      <td>17.845455</td>\n",
       "    </tr>\n",
       "    <tr>\n",
       "      <th>14</th>\n",
       "      <td>15</td>\n",
       "      <td>23.706250</td>\n",
       "    </tr>\n",
       "    <tr>\n",
       "      <th>15</th>\n",
       "      <td>16</td>\n",
       "      <td>17.030303</td>\n",
       "    </tr>\n",
       "    <tr>\n",
       "      <th>16</th>\n",
       "      <td>17</td>\n",
       "      <td>19.366667</td>\n",
       "    </tr>\n",
       "    <tr>\n",
       "      <th>17</th>\n",
       "      <td>18</td>\n",
       "      <td>18.206061</td>\n",
       "    </tr>\n",
       "    <tr>\n",
       "      <th>18</th>\n",
       "      <td>19</td>\n",
       "      <td>15.339394</td>\n",
       "    </tr>\n",
       "    <tr>\n",
       "      <th>19</th>\n",
       "      <td>20</td>\n",
       "      <td>12.036364</td>\n",
       "    </tr>\n",
       "    <tr>\n",
       "      <th>20</th>\n",
       "      <td>21</td>\n",
       "      <td>20.421212</td>\n",
       "    </tr>\n",
       "    <tr>\n",
       "      <th>21</th>\n",
       "      <td>22</td>\n",
       "      <td>12.178788</td>\n",
       "    </tr>\n",
       "    <tr>\n",
       "      <th>22</th>\n",
       "      <td>23</td>\n",
       "      <td>15.875758</td>\n",
       "    </tr>\n",
       "    <tr>\n",
       "      <th>23</th>\n",
       "      <td>24</td>\n",
       "      <td>21.333333</td>\n",
       "    </tr>\n",
       "    <tr>\n",
       "      <th>24</th>\n",
       "      <td>25</td>\n",
       "      <td>12.159375</td>\n",
       "    </tr>\n",
       "    <tr>\n",
       "      <th>25</th>\n",
       "      <td>26</td>\n",
       "      <td>17.731250</td>\n",
       "    </tr>\n",
       "    <tr>\n",
       "      <th>26</th>\n",
       "      <td>27</td>\n",
       "      <td>14.857576</td>\n",
       "    </tr>\n",
       "    <tr>\n",
       "      <th>27</th>\n",
       "      <td>28</td>\n",
       "      <td>13.164516</td>\n",
       "    </tr>\n",
       "    <tr>\n",
       "      <th>28</th>\n",
       "      <td>29</td>\n",
       "      <td>12.025000</td>\n",
       "    </tr>\n",
       "    <tr>\n",
       "      <th>29</th>\n",
       "      <td>30</td>\n",
       "      <td>14.150000</td>\n",
       "    </tr>\n",
       "    <tr>\n",
       "      <th>30</th>\n",
       "      <td>31</td>\n",
       "      <td>8.438710</td>\n",
       "    </tr>\n",
       "    <tr>\n",
       "      <th>31</th>\n",
       "      <td>32</td>\n",
       "      <td>7.728125</td>\n",
       "    </tr>\n",
       "    <tr>\n",
       "      <th>32</th>\n",
       "      <td>33</td>\n",
       "      <td>6.993750</td>\n",
       "    </tr>\n",
       "    <tr>\n",
       "      <th>33</th>\n",
       "      <td>34</td>\n",
       "      <td>6.341379</td>\n",
       "    </tr>\n",
       "    <tr>\n",
       "      <th>34</th>\n",
       "      <td>35</td>\n",
       "      <td>13.200000</td>\n",
       "    </tr>\n",
       "    <tr>\n",
       "      <th>35</th>\n",
       "      <td>36</td>\n",
       "      <td>9.251852</td>\n",
       "    </tr>\n",
       "    <tr>\n",
       "      <th>36</th>\n",
       "      <td>37</td>\n",
       "      <td>8.662500</td>\n",
       "    </tr>\n",
       "    <tr>\n",
       "      <th>37</th>\n",
       "      <td>38</td>\n",
       "      <td>8.670000</td>\n",
       "    </tr>\n",
       "    <tr>\n",
       "      <th>38</th>\n",
       "      <td>39</td>\n",
       "      <td>7.708000</td>\n",
       "    </tr>\n",
       "    <tr>\n",
       "      <th>39</th>\n",
       "      <td>40</td>\n",
       "      <td>7.503448</td>\n",
       "    </tr>\n",
       "    <tr>\n",
       "      <th>40</th>\n",
       "      <td>41</td>\n",
       "      <td>8.575000</td>\n",
       "    </tr>\n",
       "    <tr>\n",
       "      <th>41</th>\n",
       "      <td>42</td>\n",
       "      <td>9.473077</td>\n",
       "    </tr>\n",
       "    <tr>\n",
       "      <th>42</th>\n",
       "      <td>43</td>\n",
       "      <td>10.446429</td>\n",
       "    </tr>\n",
       "    <tr>\n",
       "      <th>43</th>\n",
       "      <td>44</td>\n",
       "      <td>5.305556</td>\n",
       "    </tr>\n",
       "    <tr>\n",
       "      <th>44</th>\n",
       "      <td>45</td>\n",
       "      <td>14.580000</td>\n",
       "    </tr>\n",
       "    <tr>\n",
       "      <th>45</th>\n",
       "      <td>46</td>\n",
       "      <td>7.559259</td>\n",
       "    </tr>\n",
       "    <tr>\n",
       "      <th>46</th>\n",
       "      <td>47</td>\n",
       "      <td>10.225000</td>\n",
       "    </tr>\n",
       "    <tr>\n",
       "      <th>47</th>\n",
       "      <td>48</td>\n",
       "      <td>6.684615</td>\n",
       "    </tr>\n",
       "    <tr>\n",
       "      <th>48</th>\n",
       "      <td>49</td>\n",
       "      <td>4.923810</td>\n",
       "    </tr>\n",
       "    <tr>\n",
       "      <th>49</th>\n",
       "      <td>50</td>\n",
       "      <td>4.994737</td>\n",
       "    </tr>\n",
       "    <tr>\n",
       "      <th>50</th>\n",
       "      <td>51</td>\n",
       "      <td>6.494444</td>\n",
       "    </tr>\n",
       "    <tr>\n",
       "      <th>51</th>\n",
       "      <td>52</td>\n",
       "      <td>2.478261</td>\n",
       "    </tr>\n",
       "    <tr>\n",
       "      <th>52</th>\n",
       "      <td>53</td>\n",
       "      <td>3.468421</td>\n",
       "    </tr>\n",
       "    <tr>\n",
       "      <th>53</th>\n",
       "      <td>54</td>\n",
       "      <td>3.564706</td>\n",
       "    </tr>\n",
       "    <tr>\n",
       "      <th>54</th>\n",
       "      <td>55</td>\n",
       "      <td>4.394444</td>\n",
       "    </tr>\n",
       "    <tr>\n",
       "      <th>55</th>\n",
       "      <td>56</td>\n",
       "      <td>7.505556</td>\n",
       "    </tr>\n",
       "    <tr>\n",
       "      <th>56</th>\n",
       "      <td>57</td>\n",
       "      <td>15.372727</td>\n",
       "    </tr>\n",
       "    <tr>\n",
       "      <th>57</th>\n",
       "      <td>58</td>\n",
       "      <td>1.826667</td>\n",
       "    </tr>\n",
       "    <tr>\n",
       "      <th>58</th>\n",
       "      <td>59</td>\n",
       "      <td>0.016667</td>\n",
       "    </tr>\n",
       "    <tr>\n",
       "      <th>59</th>\n",
       "      <td>60</td>\n",
       "      <td>5.040000</td>\n",
       "    </tr>\n",
       "  </tbody>\n",
       "</table>\n",
       "</div>"
      ],
      "text/plain": [
       "    Draft Slot  Average Career Win Shares\n",
       "0            1                  61.748485\n",
       "1            2                  46.251515\n",
       "2            3                  52.778788\n",
       "3            4                  48.160606\n",
       "4            5                  45.384848\n",
       "5            6                  21.739394\n",
       "6            7                  30.509091\n",
       "7            8                  21.854545\n",
       "8            9                  39.530303\n",
       "9           10                  34.172727\n",
       "10          11                  22.790625\n",
       "11          12                  18.960606\n",
       "12          13                  27.709091\n",
       "13          14                  17.845455\n",
       "14          15                  23.706250\n",
       "15          16                  17.030303\n",
       "16          17                  19.366667\n",
       "17          18                  18.206061\n",
       "18          19                  15.339394\n",
       "19          20                  12.036364\n",
       "20          21                  20.421212\n",
       "21          22                  12.178788\n",
       "22          23                  15.875758\n",
       "23          24                  21.333333\n",
       "24          25                  12.159375\n",
       "25          26                  17.731250\n",
       "26          27                  14.857576\n",
       "27          28                  13.164516\n",
       "28          29                  12.025000\n",
       "29          30                  14.150000\n",
       "30          31                   8.438710\n",
       "31          32                   7.728125\n",
       "32          33                   6.993750\n",
       "33          34                   6.341379\n",
       "34          35                  13.200000\n",
       "35          36                   9.251852\n",
       "36          37                   8.662500\n",
       "37          38                   8.670000\n",
       "38          39                   7.708000\n",
       "39          40                   7.503448\n",
       "40          41                   8.575000\n",
       "41          42                   9.473077\n",
       "42          43                  10.446429\n",
       "43          44                   5.305556\n",
       "44          45                  14.580000\n",
       "45          46                   7.559259\n",
       "46          47                  10.225000\n",
       "47          48                   6.684615\n",
       "48          49                   4.923810\n",
       "49          50                   4.994737\n",
       "50          51                   6.494444\n",
       "51          52                   2.478261\n",
       "52          53                   3.468421\n",
       "53          54                   3.564706\n",
       "54          55                   4.394444\n",
       "55          56                   7.505556\n",
       "56          57                  15.372727\n",
       "57          58                   1.826667\n",
       "58          59                   0.016667\n",
       "59          60                   5.040000"
      ]
     },
     "execution_count": 13,
     "metadata": {},
     "output_type": "execute_result"
    }
   ],
   "source": [
    "# Calculate the average career win shares for each draft slot\n",
    "average_win_shares = draft.groupby('overall_pick')['win_shares'].mean().reset_index()\n",
    "\n",
    "# Rename the columns \n",
    "average_win_shares.columns = ['Draft Slot', 'Average Career Win Shares']\n",
    "average_win_shares"
   ]
  },
  {
   "cell_type": "markdown",
   "id": "e1287451-a6da-45ee-ab8a-b909ee8fdfb9",
   "metadata": {},
   "source": [
    "This is a good start but some outliers (especially in the second round) really skew the data. I want to smooth the data to account for this and will use a reciprocal function since that seems to fit the data well. "
   ]
  },
  {
   "cell_type": "code",
   "execution_count": 14,
   "id": "1aa3cf99-8ba9-48de-a845-eba7009ed449",
   "metadata": {},
   "outputs": [],
   "source": [
    "# Define the form of the function we want to fit\n",
    "def reciprocal(x, a, h, k):\n",
    "    return a / (x - h) + k"
   ]
  },
  {
   "cell_type": "code",
   "execution_count": 15,
   "id": "414dd209-2fb4-44d4-9459-dc3468974732",
   "metadata": {},
   "outputs": [],
   "source": [
    "# Define bounds for each parameter for the differential evolution\n",
    "bounds = [(0, 100), (-50, 50), (0, 100)] "
   ]
  },
  {
   "cell_type": "code",
   "execution_count": 16,
   "id": "72929f0c-1fa1-4587-8ed6-9eb3ed9666b5",
   "metadata": {},
   "outputs": [],
   "source": [
    "# Use differential evolution to determine the initial guesses\n",
    "result = differential_evolution(lambda x: np.sum((reciprocal(average_win_shares['Draft Slot'], *x) - average_win_shares['Average Career Win Shares'])**2), bounds)"
   ]
  },
  {
   "cell_type": "code",
   "execution_count": 17,
   "id": "31461ac1-69b6-4246-9ba9-185501372c0a",
   "metadata": {},
   "outputs": [],
   "source": [
    "# Now we can use curve_fit with these initial guesses\n",
    "params, params_covariance = curve_fit(reciprocal, average_win_shares['Draft Slot'], average_win_shares['Average Career Win Shares'], p0=result.x)\n",
    "\n",
    "# Create x values for the fitted curve\n",
    "x_fit = np.linspace(average_win_shares['Draft Slot'].min(), average_win_shares['Draft Slot'].max(), 500)\n",
    "\n",
    "# Create y values for the fitted curve\n",
    "y_fit = reciprocal(x_fit, *params)"
   ]
  },
  {
   "cell_type": "code",
   "execution_count": 18,
   "id": "3f5afa37-cf48-40d8-ba2b-92b1c31f8166",
   "metadata": {},
   "outputs": [
    {
     "data": {
      "image/png": "[encoded data removed]",
      "text/plain": [
       "<Figure size 640x480 with 1 Axes>"
      ]
     },
     "metadata": {},
     "output_type": "display_data"
    }
   ],
   "source": [
    "# Plot the original data\n",
    "plt.scatter(average_win_shares['Draft Slot'], average_win_shares['Average Career Win Shares'], label='Original Data')\n",
    "\n",
    "# Plot the fitted curve\n",
    "plt.plot(x_fit, y_fit, 'r', label='Fitted Curve')\n",
    "\n",
    "#add a title\n",
    "plt.title('Average Career Win Share by Draft Slot')\n",
    "# Add a legend\n",
    "plt.legend()\n",
    "\n",
    "# Show the plot\n",
    "plt.show()"
   ]
  },
  {
   "cell_type": "markdown",
   "id": "bbb4bcbf-2dab-41ab-9d6b-c09817c2125b",
   "metadata": {},
   "source": [
    "It's not perfect but the fitted curve seems to fit the data well. It does tend to overvalue late picks (50+) due to outliers."
   ]
  },
  {
   "cell_type": "markdown",
   "id": "93e0e005-030f-41a8-988f-b2c2e47eead1",
   "metadata": {},
   "source": [
    "Let's see what the value of each draft position is:"
   ]
  },
  {
   "cell_type": "code",
   "execution_count": 19,
   "id": "da2825fd-fcfb-4daa-8dee-de14a336dcf3",
   "metadata": {},
   "outputs": [
    {
     "name": "stdout",
     "output_type": "stream",
     "text": [
      " Draft Slot  Pick Value\n",
      "          1   59.682366\n",
      "          2   52.922088\n",
      "          3   47.492897\n",
      "          4   43.036894\n",
      "          5   39.313934\n",
      "          6   36.156880\n",
      "          7   33.445815\n",
      "          8   31.092469\n",
      "          9   29.030423\n",
      "         10   27.208743\n",
      "         11   25.587715\n",
      "         12   24.135919\n",
      "         13   22.828168\n",
      "         14   21.644038\n",
      "         15   20.566790\n",
      "         16   19.582578\n",
      "         17   18.679850\n",
      "         18   17.848887\n",
      "         19   17.081460\n",
      "         20   16.370550\n",
      "         21   15.710134\n",
      "         22   15.095019\n",
      "         23   14.520697\n",
      "         24   13.983240\n",
      "         25   13.479210\n",
      "         26   13.005583\n",
      "         27   12.559687\n",
      "         28   12.139157\n",
      "         29   11.741887\n",
      "         30   11.366001\n",
      "         31   11.009817\n",
      "         32   10.671825\n",
      "         33   10.350666\n",
      "         34   10.045113\n",
      "         35    9.754057\n",
      "         36    9.476488\n",
      "         37    9.211491\n",
      "         38    8.958231\n",
      "         39    8.715945\n",
      "         40    8.483934\n",
      "         41    8.261558\n",
      "         42    8.048230\n",
      "         43    7.843409\n",
      "         44    7.646594\n",
      "         45    7.457327\n",
      "         46    7.275181\n",
      "         47    7.099761\n",
      "         48    6.930702\n",
      "         49    6.767664\n",
      "         50    6.610331\n",
      "         51    6.458408\n",
      "         52    6.311621\n",
      "         53    6.169715\n",
      "         54    6.032449\n",
      "         55    5.899600\n",
      "         56    5.770958\n",
      "         57    5.646326\n",
      "         58    5.525520\n",
      "         59    5.408365\n",
      "         60    5.294700\n"
     ]
    }
   ],
   "source": [
    "# Create an array of draft slots\n",
    "draft_slots = np.arange(1, 61)\n",
    "\n",
    "# Compute the value for each slot using the fitted function\n",
    "pick_values = reciprocal(draft_slots, *params)\n",
    "\n",
    "# Create a dataframe from the draft slots and pick values\n",
    "pick_values_df = pd.DataFrame({\n",
    "    'Draft Slot': draft_slots,\n",
    "    'Pick Value': pick_values\n",
    "})\n",
    "print(pick_values_df.to_string(index=False))"
   ]
  },
  {
   "cell_type": "markdown",
   "id": "10fbac13-6d4f-4450-85f4-ec49897d456b",
   "metadata": {},
   "source": [
    "### (b1) Conditional on the expected value of the draft positions, which NBA teams have over or underperformed the most when drafting during this time span."
   ]
  },
  {
   "cell_type": "code",
   "execution_count": 20,
   "id": "6767227f-eeea-4bdb-9e57-bf6c88639747",
   "metadata": {},
   "outputs": [],
   "source": [
    "# Merge the pick values dataframe with the draft dataframe\n",
    "merged_df = pd.merge(draft, pick_values_df, left_on='overall_pick', right_on='Draft Slot', how='left')\n",
    "\n",
    "# Adjust 'Pick Value' to be per season assuming a 10-year career\n",
    "merged_df['Adjusted Pick Value'] = merged_df['Pick Value'] / 10\n",
    "\n",
    "# Calculate win shares per season\n",
    "merged_df['win_shares_per_season'] = merged_df['win_shares'] / merged_df['years_active']\n",
    "\n",
    "# Replace NaN values in column with 0\n",
    "merged_df['win_shares_per_season'] = merged_df['win_shares_per_season'].fillna(0)\n",
    "\n",
    "# Calculate the difference between actual win shares per season and the adjusted pick value\n",
    "merged_df['Difference'] = merged_df['win_shares_per_season'] - merged_df['Adjusted Pick Value']\n"
   ]
  },
  {
   "cell_type": "code",
   "execution_count": 21,
   "id": "87a7a13d-b9fd-4740-a963-a2e6d782157e",
   "metadata": {},
   "outputs": [
    {
     "name": "stdout",
     "output_type": "stream",
     "text": [
      "team_combined\n",
      "SEA/OKC    0.331649\n",
      "SAS        0.321558\n",
      "IND        0.232179\n",
      "DEN        0.218903\n",
      "LAL        0.185334\n",
      "HOU        0.147215\n",
      "TOR        0.125225\n",
      "NOH/NOP    0.081138\n",
      "GSW        0.051930\n",
      "UTA        0.001750\n",
      "MIL       -0.010342\n",
      "CLE       -0.022318\n",
      "BOS       -0.038303\n",
      "NJN/BRK   -0.045056\n",
      "DET       -0.050412\n",
      "PHO       -0.078618\n",
      "MIA       -0.106500\n",
      "PHI       -0.177257\n",
      "CHH/CHA   -0.199513\n",
      "SAC       -0.209847\n",
      "CHI       -0.238508\n",
      "POR       -0.255726\n",
      "MIN       -0.262351\n",
      "NYK       -0.305632\n",
      "VAN/MEM   -0.323317\n",
      "ATL       -0.343540\n",
      "WSB/WAS   -0.348325\n",
      "ORL       -0.358738\n",
      "DAL       -0.427429\n",
      "LAC       -0.647043\n",
      "Name: Difference, dtype: float64\n"
     ]
    }
   ],
   "source": [
    "# Group by team and calculate the average difference\n",
    "team_performance = merged_df.groupby('team_combined')['Difference'].mean()\n",
    "\n",
    "# Display the team performance\n",
    "print(team_performance.sort_values(ascending=False))"
   ]
  },
  {
   "cell_type": "markdown",
   "id": "6eba57fe-b95d-4fec-9222-006607675f31",
   "metadata": {},
   "source": [
    "The three teams that have overperformed the most when drafting are:\n",
    "- Seattle Supersonics/Oklahoma City Thunder\n",
    "- San Antonio Spurs\n",
    "- Indiana Pacers"
   ]
  },
  {
   "cell_type": "markdown",
   "id": "ffa85b2f-dc29-45e9-8bfb-6b164dd0b91b",
   "metadata": {},
   "source": [
    "The three teams that have underperformed the most when drafting are:\n",
    "\n",
    "- Los Angeles Clippers\n",
    "- Dallas Mavericks\n",
    "- Orlando Magic"
   ]
  },
  {
   "cell_type": "markdown",
   "id": "7b7e6ba5-0484-4845-b77e-49e337f358bb",
   "metadata": {},
   "source": [
    "### ***(b2) Which College Teams have had the players outperform expectations the most after entering the NBA?***\n",
    "note: To account for outliers, I only analzyed colleged that have had at least five players drafted to the NBA"
   ]
  },
  {
   "cell_type": "code",
   "execution_count": 22,
   "id": "8cea97df-e8ef-49e6-bdca-c1ce8ab968ff",
   "metadata": {},
   "outputs": [
    {
     "data": {
      "text/plain": [
       "college\n",
       "Wake Forest       1.861873\n",
       "Texas A&M         1.510045\n",
       "Louisiana Tech    1.202630\n",
       "Name: Difference, dtype: float64"
      ]
     },
     "execution_count": 22,
     "metadata": {},
     "output_type": "execute_result"
    }
   ],
   "source": [
    "# Group by college and filter\n",
    "filtered_draft = merged_df.groupby('college').filter(lambda x: len(x) >= 5)\n",
    "\n",
    "# Now, we compute the average performance difference for each college\n",
    "college_performance = filtered_draft.groupby('college')['Difference'].mean()\n",
    "\n",
    "#college_performance = college_performance.dropna()\n",
    "\n",
    "# Sort in descending order to see which colleges' players outperformed expectations the most\n",
    "college_performance = college_performance.sort_values(ascending=False)\n",
    "\n",
    "college_performance.sort_values(ascending=False).head(3)"
   ]
  },
  {
   "cell_type": "markdown",
   "id": "c24abf2a-9d99-45a0-8649-26063fc249b6",
   "metadata": {},
   "source": [
    "The three colleges that have had players outperform expectations the most are: \n",
    "- Wake Forest\n",
    "- Texas A&M\n",
    "- Louisiana Tech"
   ]
  }
 ],
 "metadata": {
  "kernelspec": {
   "display_name": "Python 3 (ipykernel)",
   "language": "python",
   "name": "python3"
  },
  "language_info": {
   "codemirror_mode": {
    "name": "ipython",
    "version": 3
   },
   "file_extension": ".py",
   "mimetype": "text/x-python",
   "name": "python",
   "nbconvert_exporter": "python",
   "pygments_lexer": "ipython3",
   "version": "3.9.13"
  }
 },
 "nbformat": 4,
 "nbformat_minor": 5
}
